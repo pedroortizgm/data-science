{
 "cells": [
  {
   "cell_type": "markdown",
   "metadata": {},
   "source": [
    "# Ejercicio 1"
   ]
  },
  {
   "cell_type": "markdown",
   "metadata": {},
   "source": [
    "- Crea un array de 450 enteros aleatorios entre -10 y 10."
   ]
  },
  {
   "cell_type": "code",
   "execution_count": 1,
   "metadata": {},
   "outputs": [],
   "source": [
    "import numpy as np\n",
    "\n",
    "array450 = np.random.randint(-10, 10, 450, int)"
   ]
  },
  {
   "cell_type": "markdown",
   "metadata": {},
   "source": [
    "- Redimensiónalo como matriz de 5x70. ¿Hay algún problema? Si lo hay, corrígelo."
   ]
  },
  {
   "cell_type": "code",
   "execution_count": 2,
   "metadata": {},
   "outputs": [
    {
     "data": {
      "text/plain": [
       "array([[  4,   4,   6,   0,  -3,   9,  -4,  -6,  -3,  -9,  -3,   3,   3,\n",
       "          7,   4,  -9,  -4,   3,   2,   9,   1,   1,  -2,  -7,   0,  -2,\n",
       "         -6,   5,   4,  -9,  -5,   0,   5,   6,   6,  -9,   3,  -1,  -1,\n",
       "          7,   7,   7,  -1,   1,   5,  -7, -10,   4,   5,   5,  -8,   1,\n",
       "          3,   6,   3,   7,   3,   4,   0,  -1,  -1,   8,   5,  -1,  -5,\n",
       "         -2,   8,   8, -10,  -3,   0,   7,  -7,  -1,  -2,  -1,   0, -10,\n",
       "          2,  -5,  -3, -10,   5,  -3,  -3,   3,   5,   7,   6,   8],\n",
       "       [  6,  -3,   2,   7,  -7,  -3,   6,  -3,   9,   7,  -3,  -4,   5,\n",
       "         -9,   2,  -3,   5,  -5,  -4,   9,  -7,  -1,  -1,   3,   7,   2,\n",
       "          6,   7,  -1,   0,   4,  -1,   6,   7,   7,  -1,  -9,  -4,   6,\n",
       "         -5,   8,   2,   0,  -3,   9,  -9,  -5,  -4,  -9,  -6,   2,   6,\n",
       "          9,  -4, -10,   3,  -6,   9,   3,   9,  -9,  -5,  -8, -10,  -3,\n",
       "         -2,   6,   1,  -3, -10,   4,  -9,  -9,  -5,  -3,   3,   4, -10,\n",
       "          4,   8,   9,   6,   4,   3, -10,   7,   2,  -9,   1, -10],\n",
       "       [-10,  -9, -10,   5,  -8,   3,   3,  -3,   8,  -8,   1,   3,   1,\n",
       "         -5,   0,   1,  -9,  -4,  -7,  -6,   2,   3, -10,  -5,  -2,  -3,\n",
       "          3,   2,   9,  -3,   6,  -6,  -6,   8,   8,  -7,   4,   0,  -8,\n",
       "          6,   1,  -9,   1,  -8,  -7,   2,  -5,   3,   2,   2,   3,   1,\n",
       "          5,   1,   3,  -4,   3,  -2,  -7,   4,  -5,  -2,  -9,  -9,   4,\n",
       "         -8,  -3,  -3,   2,  -9,  -2,  -8,  -9,  -5,   8,  -7,   4, -10,\n",
       "          3,  -8,   0,   2,   0,  -9,  -7,   5,   6,  -3,   4,   2],\n",
       "       [  3,   7,   5,   1,   3,   2,  -2,   4,   7,   9,   1,   6,   3,\n",
       "          0,  -3,  -5,  -6,  -1,  -4,   9,   6,  -5,   6,  -4, -10,  -3,\n",
       "          6,  -2,   4,   6,  -6,  -8,  -1,  -8,   0,  -1,  -2,   7,  -5,\n",
       "         -6,   3,   1,  -6,   9,  -9,  -5,   8,   1,   9,  -2,   9,   0,\n",
       "         -7, -10,  -4,   1,  -1,   5,   4,  -6,  -5,   4,   2,  -9,   2,\n",
       "         -4,  -1,   5,   0,   1,   3,   6,   3,  -6, -10,   5,  -2,  -1,\n",
       "         -7,  -4,  -7,   9,   6,  -9,   1,   3,   4,   2,   0,   8],\n",
       "       [  0,   9,  -5,  -4,   1,   8,  -1,  -6,   5, -10,   9,  -4,  -4,\n",
       "          2,   6,  -2,  -4,   1,  -4,  -5,   8,  -4,  -7,  -9,  -9,   9,\n",
       "         -9,  -8,   4,   1,  -3,   2,   0,   4,   1,   4,  -1, -10,   2,\n",
       "         -8,   4,   1,   8,  -9,   3,  -1,   8,  -5,  -2,  -2,   3,   3,\n",
       "          4,  -8,  -4,   8,   3,   3,   0,   4,  -5,  -6,  -4,  -7,   3,\n",
       "         -7,  -5,   7,  -2,   3,  -4,   3,  -5,   8,  -3,  -3,  -3,   0,\n",
       "         -9,   5,   1,   5,   6, -10,   7,   6,   2,  -2,  -1,   8]])"
      ]
     },
     "execution_count": 2,
     "metadata": {},
     "output_type": "execute_result"
    }
   ],
   "source": [
    "array450.reshape((5,90))"
   ]
  },
  {
   "cell_type": "markdown",
   "metadata": {},
   "source": [
    "- Obtén con una función que encuentres en las bibliotecas de NumPy los datos no duplicados."
   ]
  },
  {
   "cell_type": "code",
   "execution_count": 3,
   "metadata": {},
   "outputs": [
    {
     "name": "stdout",
     "output_type": "stream",
     "text": [
      "[-10  -9  -8  -7  -6  -5  -4  -3  -2  -1   0   1   2   3   4   5   6   7\n",
      "   8   9]\n"
     ]
    }
   ],
   "source": [
    "unique = np.unique(array450)\n",
    "print(unique)"
   ]
  },
  {
   "cell_type": "markdown",
   "metadata": {},
   "source": [
    "- Sobre los datos no duplicados, obtén la media y los cuartiles, buscando las funciones adecuadas.\n"
   ]
  },
  {
   "cell_type": "code",
   "execution_count": 4,
   "metadata": {},
   "outputs": [
    {
     "name": "stdout",
     "output_type": "stream",
     "text": [
      "-0.5\n",
      "[-5.25 -0.5   4.25]\n"
     ]
    }
   ],
   "source": [
    "average = np.average(unique)\n",
    "quartiles = np.percentile(unique, [25, 50, 75])\n",
    "print(average)\n",
    "print(quartiles)"
   ]
  },
  {
   "cell_type": "markdown",
   "metadata": {},
   "source": [
    "- Dibuja el histograma y los cuartiles del array. Nota: para dibujar líneas se pueden utilizar funciones como vlines()."
   ]
  },
  {
   "cell_type": "code",
   "execution_count": 5,
   "metadata": {},
   "outputs": [
    {
     "data": {
      "text/plain": [
       "<matplotlib.collections.LineCollection at 0x7f0b44d79c88>"
      ]
     },
     "execution_count": 5,
     "metadata": {},
     "output_type": "execute_result"
    }
   ],
   "source": [
    "import matplotlib.pyplot as plt\n",
    "\n",
    "plt.hist(array450, bins=20, alpha=0.75)\n",
    "plt.vlines(quartiles, 0, 35)\n"
   ]
  },
  {
   "cell_type": "markdown",
   "metadata": {},
   "source": [
    "# Ejercicio 2"
   ]
  },
  {
   "cell_type": "markdown",
   "metadata": {},
   "source": [
    "- Crea dos arrays de 100 elementos con números aleatorios de distribuciones diferentes, pero en un rango de valores similar. "
   ]
  },
  {
   "cell_type": "code",
   "execution_count": 6,
   "metadata": {},
   "outputs": [],
   "source": [
    "array1 = np.random.normal(0, 0.1, 100)\n",
    "array2 = np.random.uniform(0, 1, 100)"
   ]
  },
  {
   "cell_type": "markdown",
   "metadata": {},
   "source": [
    "- Dibuja sus histogramas y compáralos."
   ]
  },
  {
   "cell_type": "code",
   "execution_count": 7,
   "metadata": {},
   "outputs": [
    {
     "data": {
      "text/plain": [
       "(array([ 4.,  4.,  6.,  8.,  7.,  9.,  3., 10.,  3.,  5.,  5.,  4.,  3.,\n",
       "         3.,  3.,  6.,  5.,  3.,  4.,  5.]),\n",
       " array([0.03041752, 0.07887832, 0.12733911, 0.17579991, 0.2242607 ,\n",
       "        0.2727215 , 0.32118229, 0.36964309, 0.41810388, 0.46656468,\n",
       "        0.51502547, 0.56348627, 0.61194706, 0.66040786, 0.70886865,\n",
       "        0.75732945, 0.80579024, 0.85425104, 0.90271184, 0.95117263,\n",
       "        0.99963343]),\n",
       " <a list of 20 Patch objects>)"
      ]
     },
     "execution_count": 7,
     "metadata": {},
     "output_type": "execute_result"
    },
    {
     "data": {
      "image/png": "[encoded data removed]",
      "text/plain": [
       "<Figure size 432x288 with 1 Axes>"
      ]
     },
     "metadata": {},
     "output_type": "display_data"
    }
   ],
   "source": [
    "plt.hist(array1, bins=20, alpha=0.75)\n",
    "plt.hist(array2, bins=20, alpha=0.75)"
   ]
  },
  {
   "cell_type": "markdown",
   "metadata": {},
   "source": [
    "- ¿Con qué método estadístico podrías contrastar si las dos muestras provienen de la misma distribución? ¿En qué paquete del stack científico de Python podría estar?"
   ]
  },
  {
   "cell_type": "code",
   "execution_count": 8,
   "metadata": {},
   "outputs": [
    {
     "data": {
      "text/plain": [
       "Ks_2sampResult(statistic=0.86, pvalue=8.65510764431275e-34)"
      ]
     },
     "execution_count": 8,
     "metadata": {},
     "output_type": "execute_result"
    }
   ],
   "source": [
    "from scipy.stats import ks_2samp\n",
    "ks_2samp(array1, array2)"
   ]
  },
  {
   "cell_type": "markdown",
   "metadata": {},
   "source": [
    "En la libreria scipy siguiendo la formula K-S: Si estadística de K-S es pequeña o el valor 'p-value' es alto, entonces no podemos rechazar la hipótesis de que las dos muestras tengan la misma distribución."
   ]
  },
  {
   "cell_type": "markdown",
   "metadata": {},
   "source": [
    "# Ejercicio 3"
   ]
  },
  {
   "cell_type": "markdown",
   "metadata": {},
   "source": [
    "Si no lo conocías, lee el ejemplo de qué es una media móvil aquí: http://www.investopedia.com/terms/m/movingaverage.asp (consideramos solo las medias móviles simples)"
   ]
  },
  {
   "cell_type": "markdown",
   "metadata": {},
   "source": [
    "- Genera un array de supuesta cotizaciones de un valor de la bolsa duante un período. Nota: Puedes simularlo con un “random walk” a partir de un valor de cotización inicial"
   ]
  },
  {
   "cell_type": "code",
   "execution_count": 11,
   "metadata": {},
   "outputs": [],
   "source": [
    "dims = 1\n",
    "step_n = 200\n",
    "step_set = [-1, -0.75, -0.5, -0.25, 0, 0.25, 0.5, 0.75, 1]\n",
    "origin = np.zeros((1,dims))\n",
    "\n",
    "# Simulate steps in 1D\n",
    "\n",
    "step_shape = (step_n,dims)\n",
    "steps = np.random.choice(a=step_set, size=step_shape)\n",
    "randomWalk = np.concatenate([origin, steps]).cumsum(0)\n",
    "start = randomWalk[:1]\n",
    "stop = randomWalk[-1:]\n"
   ]
  },
  {
   "cell_type": "markdown",
   "metadata": {},
   "source": [
    "- Busca una función en el stack científico de Python que implemente la media móvil y aplícalo a los datos generados.\n"
   ]
  },
  {
   "cell_type": "code",
   "execution_count": 12,
   "metadata": {},
   "outputs": [
    {
     "data": {
      "text/plain": [
       "array([ 0.0000e+00, -2.5000e-01,  0.0000e+00, -7.5000e-01, -1.2500e+00,\n",
       "       -7.5000e-01,  7.5000e-01,  1.2500e+00,  2.7500e+00,  3.2500e+00,\n",
       "        4.5000e+00,  6.5000e+00,  9.2500e+00,  1.1000e+01,  1.2500e+01,\n",
       "        1.3750e+01,  1.6000e+01,  1.8500e+01,  2.0000e+01,  2.2500e+01,\n",
       "        2.4000e+01,  2.4500e+01,  2.4500e+01,  2.4750e+01,  2.5750e+01,\n",
       "        2.7500e+01,  2.9000e+01,  2.9750e+01,  3.0500e+01,  3.0250e+01,\n",
       "        3.0500e+01,  3.0000e+01,  2.9750e+01,  3.0250e+01,  2.9750e+01,\n",
       "        2.9500e+01,  2.8750e+01,  2.7500e+01,  2.6250e+01,  2.4250e+01,\n",
       "        2.3000e+01,  2.0750e+01,  1.8750e+01,  1.7250e+01,  1.5000e+01,\n",
       "        1.3500e+01,  1.2750e+01,  1.2250e+01,  1.2750e+01,  1.3500e+01,\n",
       "        1.5250e+01,  1.6000e+01,  1.6500e+01,  1.7250e+01,  1.9000e+01,\n",
       "        2.1500e+01,  2.4500e+01,  2.6750e+01,  3.0000e+01,  3.4000e+01,\n",
       "        3.8000e+01,  4.1750e+01,  4.4500e+01,  4.6750e+01,  4.9000e+01,\n",
       "        5.1000e+01,  5.2500e+01,  5.4250e+01,  5.6500e+01,  5.8750e+01,\n",
       "        6.1500e+01,  6.3250e+01,  6.4500e+01,  6.5500e+01,  6.7500e+01,\n",
       "        6.9250e+01,  7.1000e+01,  7.2500e+01,  7.3000e+01,  7.4250e+01,\n",
       "        7.6500e+01,  7.9500e+01,  8.2750e+01,  8.5750e+01,  8.8500e+01,\n",
       "        9.1500e+01,  9.4750e+01,  9.7000e+01,  9.8750e+01,  1.0125e+02,\n",
       "        1.0375e+02,  1.0625e+02,  1.0875e+02,  1.1025e+02,  1.1250e+02,\n",
       "        1.1450e+02,  1.1700e+02,  1.2050e+02,  1.2475e+02,  1.2950e+02,\n",
       "        1.3525e+02,  1.4200e+02,  1.4950e+02,  1.5800e+02,  1.6750e+02,\n",
       "        1.7750e+02,  1.8650e+02,  1.9450e+02,  2.0350e+02,  2.1275e+02,\n",
       "        2.2175e+02,  2.3100e+02,  2.4000e+02,  2.4825e+02,  2.5625e+02,\n",
       "        2.6450e+02,  2.7225e+02,  2.8025e+02,  2.8775e+02,  2.9500e+02,\n",
       "        3.0225e+02,  3.1050e+02,  3.1900e+02,  3.2825e+02,  3.3825e+02,\n",
       "        3.4850e+02,  3.5950e+02,  3.7125e+02,  3.8325e+02,  3.9525e+02,\n",
       "        4.0725e+02,  4.1850e+02,  4.2925e+02,  4.3975e+02,  4.5100e+02,\n",
       "        4.6250e+02,  4.7450e+02,  4.8600e+02,  4.9850e+02,  5.1200e+02,\n",
       "        5.2450e+02,  5.3675e+02,  5.4950e+02,  5.6150e+02,  5.7250e+02,\n",
       "        5.8350e+02,  5.9375e+02,  6.0450e+02,  6.1625e+02,  6.2700e+02,\n",
       "        6.3800e+02,  6.4925e+02,  6.6050e+02,  6.7075e+02,  6.8150e+02,\n",
       "        6.9325e+02,  7.0400e+02,  7.1475e+02,  7.2625e+02,  7.3675e+02,\n",
       "        7.4625e+02,  7.5500e+02,  7.6400e+02,  7.7275e+02,  7.8075e+02,\n",
       "        7.8800e+02,  7.9475e+02,  8.0075e+02,  8.0600e+02,  8.1050e+02,\n",
       "        8.1550e+02,  8.2000e+02,  8.2450e+02,  8.3000e+02,  8.3575e+02,\n",
       "        8.4050e+02,  8.4425e+02,  8.4725e+02,  8.5125e+02,  8.5600e+02,\n",
       "        8.6150e+02,  8.6600e+02,  8.6975e+02,  8.7250e+02,  8.7550e+02,\n",
       "        8.7825e+02,  8.8075e+02,  8.8250e+02,  8.8450e+02,  8.8625e+02,\n",
       "        8.8900e+02,  8.9200e+02,  8.9425e+02,  8.9700e+02,  8.9875e+02,\n",
       "        9.0050e+02,  9.0275e+02,  9.0600e+02,  9.0925e+02,  9.1200e+02,\n",
       "        9.1450e+02])"
      ]
     },
     "execution_count": 12,
     "metadata": {},
     "output_type": "execute_result"
    }
   ],
   "source": [
    "np.cumsum(randomWalk)"
   ]
  },
  {
   "cell_type": "markdown",
   "metadata": {},
   "source": [
    "- (**) Ahora haz tu propia implementación de la media móvil utilizando arrays de NumPy. "
   ]
  },
  {
   "cell_type": "code",
   "execution_count": 13,
   "metadata": {},
   "outputs": [],
   "source": [
    "def simple_moving_average(values, previous_interval):\n",
    "    sma = []\n",
    "    for i in range(1, len(values)):\n",
    "        if i > previous_interval:\n",
    "            sma.append(np.sum(values[i - previous_interval : i]))\n",
    "        else :\n",
    "            sma.append(0)\n",
    "    return sma\n"
   ]
  },
  {
   "cell_type": "markdown",
   "metadata": {},
   "source": [
    "- Compara la eficiencia de tu versión y la de NumPy.\n"
   ]
  },
  {
   "cell_type": "code",
   "execution_count": 14,
   "metadata": {},
   "outputs": [
    {
     "name": "stdout",
     "output_type": "stream",
     "text": [
      "2.6 µs ± 46.6 ns per loop (mean ± std. dev. of 7 runs, 100000 loops each)\n",
      "675 µs ± 11.5 µs per loop (mean ± std. dev. of 7 runs, 1000 loops each)\n"
     ]
    }
   ],
   "source": [
    "%timeit np.cumsum(randomWalk)\n",
    "%timeit simple_moving_average(randomWalk, 3)"
   ]
  },
  {
   "cell_type": "markdown",
   "metadata": {},
   "source": [
    "- (**) Investiga cómo obtener datos reales de un valor de la bolsa a partir de Yahoo Financials (si no lo consigues por programa, puedes descargarlo a un fichero a mano y leerlo después), y aplica la media móvil."
   ]
  },
  {
   "cell_type": "code",
   "execution_count": null,
   "metadata": {},
   "outputs": [],
   "source": []
  },
  {
   "cell_type": "markdown",
   "metadata": {},
   "source": [
    "# Ejercicio 4\n",
    "NumPy tiene una categoría de funciones para grabar y recuperar arrays de disco:  https://docs.scipy.org/doc/numpy/reference/routines.io.html   \n",
    "\n",
    "A partir del siguiente código:\n",
    "```\n",
    "import numpy as np\n",
    "N = 10\n",
    "a = np.random.uniform(size=N)\n",
    "b = np.random.normal(size=N)\n",
    "b\n",
    "array([ 0.52284741, 0.23829581, -0.49767523, 0.54278876, 0.27790099,\n",
    "1.94402675, -0.3543395 , 0.57639513, -0.80058146, -0.89837096])\n",
    "```"
   ]
  },
  {
   "cell_type": "code",
   "execution_count": 35,
   "metadata": {},
   "outputs": [],
   "source": [
    "def create_arrays(arrays_size = 10):\n",
    "    a = np.random.uniform(size = arrays_size)\n",
    "    b = np.random.normal(size = arrays_size)\n",
    "    return a, b"
   ]
  },
  {
   "cell_type": "markdown",
   "metadata": {},
   "source": [
    "- Guardar los arrays anteriores en formato específico de NumPy comprimido y formato de texto (sin comprimir)."
   ]
  },
  {
   "cell_type": "code",
   "execution_count": 36,
   "metadata": {},
   "outputs": [],
   "source": [
    "a, b = create_arrays(10)\n",
    "np.savetxt(\"fileA.txt\", a)\n",
    "np.savetxt(\"fileB.txt\", b)"
   ]
  },
  {
   "cell_type": "markdown",
   "metadata": {},
   "source": [
    "- Comparar las diferencias de espacio en disco desde el mismo Notebook, y ver sus contenidos con el comando head del sistema operativo."
   ]
  },
  {
   "cell_type": "code",
   "execution_count": 37,
   "metadata": {},
   "outputs": [
    {
     "name": "stdout",
     "output_type": "stream",
     "text": [
      "4,0K fileA.txt  4,0K fileBoth.txt  4,0K fileB.txt\n"
     ]
    }
   ],
   "source": [
    "%ls -sh *.txt\n"
   ]
  },
  {
   "cell_type": "markdown",
   "metadata": {},
   "source": [
    "- Cargarlos de nuevo en memoria con nombres de variable diferentes."
   ]
  },
  {
   "cell_type": "code",
   "execution_count": 38,
   "metadata": {},
   "outputs": [
    {
     "data": {
      "text/plain": [
       "(array([0.28574091, 0.74682079, 0.70061494, 0.61298419, 0.34300928,\n",
       "        0.39172586, 0.85143528, 0.54879167, 0.2116721 , 0.35532689]),\n",
       " array([ 1.24566977,  0.58570255,  0.2908381 , -1.94012857, -0.29851172,\n",
       "        -0.50981952,  0.06387277,  2.07384303, -0.55683298,  0.17862209]))"
      ]
     },
     "execution_count": 38,
     "metadata": {},
     "output_type": "execute_result"
    }
   ],
   "source": [
    "loadedA = np.loadtxt(\"fileA.txt\")\n",
    "loadedB = np.loadtxt(\"fileB.txt\")\n",
    "\n",
    "loadedA, loadedB"
   ]
  },
  {
   "cell_type": "markdown",
   "metadata": {},
   "source": [
    "- (opcional) Guardar los dos arrays en un solo fichero de texto y recuperarlos de nuevo. Pista: utilizar tuplas."
   ]
  },
  {
   "cell_type": "code",
   "execution_count": 39,
   "metadata": {},
   "outputs": [
    {
     "data": {
      "text/plain": [
       "(array([0.28574091, 0.74682079, 0.70061494, 0.61298419, 0.34300928,\n",
       "        0.39172586, 0.85143528, 0.54879167, 0.2116721 , 0.35532689]),\n",
       " array([ 1.24566977,  0.58570255,  0.2908381 , -1.94012857, -0.29851172,\n",
       "        -0.50981952,  0.06387277,  2.07384303, -0.55683298,  0.17862209]))"
      ]
     },
     "execution_count": 39,
     "metadata": {},
     "output_type": "execute_result"
    }
   ],
   "source": [
    "np.savetxt(\"fileBoth.txt\", (a, b))\n",
    "loadedBothA, loadedBothB = np.loadtxt(\"fileBoth.txt\")\n",
    "loadedBothA, loadedBothB"
   ]
  },
  {
   "cell_type": "markdown",
   "metadata": {},
   "source": [
    "# Ejercicio 5\n",
    "SciPy tiene un buen número de distribuciones de probabilidad conocidas implementadas, continuas y discretas: https://docs.scipy.org/doc/scipy/reference/stats.html  \n",
    "\n",
    "Por ejemplo, podemos trabajar con distribuciones normales de la siguiente forma.\n",
    "```\n",
    "from scipy.stats import norm\n",
    "# Creamos una distribución normal con media 5.\n",
    "mi_normal = norm(5)\n",
    "# Obtenemos los percentiles de los extremos de la distribución:\n",
    "x = np.linspace(mi_normal.ppf(0.001), mi_normal.ppf(0.999), 100)\n",
    "# Obtenemos los estadísticos comunes:\n",
    "m, v = mi_normal.stats(moments='mv')\n",
    "print(m, v)\n",
    "# Dibujamos la función\n",
    "%matplotlib inline\n",
    "import matplotlib.pyplot as plt\n",
    "plt.plot(x, mi_normal.pdf(x), 'r-', lw=3)\n",
    " (array(5.0), array(1.0))\n",
    "``` \n",
    "\n",
    "Podemos generar a su vez datos aleatorios para simular una muestra de la siguiente manera.\n",
    "```\n",
    "r = mi_normal.rvs(size=1000)\n",
    "plt.hist(r, normed=True, alpha=0.2, bins=\"auto\")\n",
    "```\n",
    "\n",
    "Queremos ahora estudiar la distribución de Pareto. Podemos ver su forma en Wikipedia:\n",
    "https://es.wikipedia.org/wiki/Distribución_de_Pareto \n"
   ]
  },
  {
   "cell_type": "code",
   "execution_count": 46,
   "metadata": {},
   "outputs": [
    {
     "name": "stderr",
     "output_type": "stream",
     "text": [
      "/home/portiz/anaconda3/lib/python3.6/site-packages/matplotlib/axes/_axes.py:6462: UserWarning: The 'normed' kwarg is deprecated, and has been replaced by the 'density' kwarg.\n",
      "  warnings.warn(\"The 'normed' kwarg is deprecated, and has been \"\n"
     ]
    },
    {
     "data": {
      "text/plain": [
       "array([4.5806028 , 3.65680846, 4.97056724, 4.25655794, 5.18072345,\n",
       "       5.13060334, 4.36330413, 5.09589047, 6.47641995, 6.54369658,\n",
       "       5.24000306, 5.41771373, 4.94399595, 4.92287111, 6.50172317,\n",
       "       5.40465127, 5.09449674, 3.22156841, 4.83272461, 4.54498512,\n",
       "       6.51443039, 5.56621146, 7.82757964, 4.57483544, 5.28896241,\n",
       "       4.4835917 , 4.08183938, 6.55444912, 4.54951772, 5.88152416,\n",
       "       5.4251697 , 5.0057237 , 4.31460633, 4.46414486, 5.31298539,\n",
       "       4.19566638, 6.03871224, 4.38729732, 5.49670994, 4.18475319,\n",
       "       3.35463552, 5.76346682, 5.57736389, 4.88057337, 6.02421498,\n",
       "       4.09247918, 5.5764394 , 2.89642705, 4.38415105, 3.97844702,\n",
       "       6.34693972, 5.1832098 , 4.70857174, 5.72979963, 3.83289259,\n",
       "       4.91166669, 4.6542304 , 5.37583937, 5.43499076, 5.67754485,\n",
       "       5.51253707, 4.40287025, 3.40954734, 3.88320638, 3.22589901,\n",
       "       4.76993975, 4.67701034, 3.82105799, 4.39857526, 7.82759805,\n",
       "       4.83058772, 5.86638819, 5.53028721, 4.39108655, 6.26472999,\n",
       "       4.6800117 , 5.55439048, 5.01386981, 5.18397709, 4.37815881,\n",
       "       1.95972882, 7.09188189, 6.95641535, 4.21081404, 3.95904131,\n",
       "       5.58896519, 3.21842272, 6.39030442, 6.75285406, 3.78978772,\n",
       "       4.05246627, 5.5881107 , 5.10479573, 4.30693588, 4.33585939,\n",
       "       6.56408831, 3.69624999, 4.89930993, 4.60073095, 7.20559449,\n",
       "       5.29614748, 4.03886905, 3.37052027, 3.96390101, 4.82346324,\n",
       "       3.6869433 , 5.99294339, 4.06125586, 5.33028452, 3.47045136,\n",
       "       4.42859489, 4.0922503 , 5.49477817, 4.09670903, 4.18657007,\n",
       "       5.11377234, 4.63193295, 5.62283446, 4.26109617, 3.14137792,\n",
       "       5.58219909, 4.14097571, 4.90011815, 3.34202163, 6.40231382,\n",
       "       3.38605904, 6.04506167, 4.25631733, 5.91270567, 4.51824796,\n",
       "       6.14938697, 4.86335347, 5.39754734, 5.01807049, 3.6157435 ,\n",
       "       5.25575516, 4.66753334, 3.571308  , 5.65121242, 4.44211922,\n",
       "       5.08221041, 5.89755033, 7.94232194, 7.24210395, 3.84266846,\n",
       "       2.61195962, 6.48619871, 5.1732746 , 3.5119276 , 4.69296166,\n",
       "       4.03797219, 5.06945958, 2.8055102 , 4.19273135, 3.93343038,\n",
       "       3.08770991, 3.65564467, 4.67332555, 6.12946667, 4.33670653,\n",
       "       7.08539352, 5.26087179, 5.01240014, 4.60279079, 4.50775561,\n",
       "       3.72211531, 6.17508305, 5.2313354 , 3.5794193 , 4.70721743,\n",
       "       3.69223316, 7.05295066, 5.96130445, 6.80881899, 5.84566695,\n",
       "       5.19677945, 5.02140481, 6.63172236, 3.61002382, 4.48356228,\n",
       "       4.61355186, 4.58545256, 3.95615285, 5.69328529, 4.70734313,\n",
       "       5.12365703, 4.85457714, 3.89933845, 5.78027323, 5.64715494,\n",
       "       5.61926379, 5.06443349, 3.88609612, 4.43396747, 5.14030398,\n",
       "       6.19696091, 6.41082147, 4.89977465, 5.38514312, 5.66346759,\n",
       "       4.93902118, 4.05985185, 5.9485286 , 4.97548116, 5.34766955,\n",
       "       5.40924562, 5.25653268, 4.7919542 , 4.55081827, 4.62913866,\n",
       "       5.55408983, 4.5661923 , 4.44782324, 4.89771211, 4.09583186,\n",
       "       5.04400612, 4.20186707, 4.76319749, 6.09409447, 4.68560097,\n",
       "       2.54830361, 4.64926995, 4.48877391, 5.74268371, 4.10205477,\n",
       "       4.35793378, 3.67121469, 5.92664073, 5.55770104, 5.56640229,\n",
       "       4.27653086, 3.39631199, 4.93400319, 4.12742722, 5.66414312,\n",
       "       6.09222176, 5.95523162, 4.89744211, 5.69525856, 5.16544502,\n",
       "       5.77358778, 3.22379339, 6.09786857, 4.06302344, 5.36671997,\n",
       "       4.24727422, 6.46955338, 3.06205267, 6.71802432, 5.3081817 ,\n",
       "       4.47112364, 3.24696221, 4.25086093, 4.88995285, 5.62946409,\n",
       "       4.09410306, 7.11905252, 4.28887321, 4.57782571, 3.74296232,\n",
       "       2.9006211 , 4.17676009, 4.83636828, 7.16430402, 4.20588269,\n",
       "       5.54478682, 3.90654517, 5.87054482, 5.45846264, 4.30335232,\n",
       "       4.08449567, 4.48262604, 5.53207309, 4.58738611, 3.72451378,\n",
       "       3.59723981, 3.69386237, 4.31841913, 6.12694118, 5.88363657,\n",
       "       4.96904035, 4.790644  , 7.47447708, 4.63926816, 6.22928564,\n",
       "       5.35328125, 4.94277543, 5.16651907, 4.77868353, 5.88259117,\n",
       "       4.54518617, 4.54387637, 5.55245364, 5.60356213, 5.87088121,\n",
       "       4.09476764, 6.23048375, 5.22794829, 5.44795191, 5.01492404,\n",
       "       5.58989407, 3.87125456, 4.4510308 , 3.06944857, 3.77687727,\n",
       "       2.59109695, 5.15044845, 4.11876497, 4.28775643, 3.34486482,\n",
       "       3.69388322, 5.05917096, 6.80353552, 5.47203205, 4.62087939,\n",
       "       4.40144248, 5.60870332, 5.68648987, 3.84392896, 5.74002502,\n",
       "       4.38547611, 4.59246486, 4.96610199, 3.61275872, 4.91666207,\n",
       "       5.80124829, 5.03173039, 4.76678202, 3.17476505, 4.34216639,\n",
       "       5.99731248, 4.89465007, 4.82746206, 5.30487652, 4.67935083,\n",
       "       4.07697202, 6.35971973, 6.81286151, 5.46353567, 5.94501543,\n",
       "       4.49046402, 6.26050492, 4.46277018, 4.47571755, 4.53947265,\n",
       "       4.11467004, 4.79851744, 5.02538994, 3.62980732, 6.07480257,\n",
       "       4.8139934 , 5.87630324, 3.964368  , 6.53744046, 4.41753075,\n",
       "       4.62911295, 4.95250808, 4.10626906, 5.24657394, 5.1164258 ,\n",
       "       4.71450463, 5.07114591, 3.01510452, 5.38908111, 4.05265258,\n",
       "       5.12439894, 5.35224603, 5.19917856, 3.91502336, 5.93173333,\n",
       "       3.57941398, 4.08424076, 6.93264144, 5.47687742, 5.57232612,\n",
       "       4.97548078, 5.07202859, 4.13647975, 6.28315561, 4.18466971,\n",
       "       3.0734296 , 5.67525633, 3.78759585, 4.37362144, 5.71565443,\n",
       "       5.77888196, 4.43125153, 5.58707741, 4.33561311, 5.31901353,\n",
       "       6.05687296, 5.44331228, 4.41619382, 5.6053846 , 6.42194444,\n",
       "       4.861038  , 6.28303108, 6.165997  , 6.54263765, 6.898724  ,\n",
       "       4.63739797, 4.61189962, 4.78147228, 3.75074944, 4.9804266 ,\n",
       "       4.47581915, 3.82861293, 5.8690466 , 6.85042408, 4.36797495,\n",
       "       4.37150243, 4.72566931, 5.42027243, 5.44765719, 6.15291872,\n",
       "       3.2312819 , 5.68487474, 5.13111098, 5.50105091, 4.63979882,\n",
       "       6.42247134, 3.47518412, 3.9515761 , 4.71412032, 4.92300405,\n",
       "       3.25581038, 5.2147486 , 3.243685  , 5.23511429, 4.8138113 ,\n",
       "       5.50838141, 4.75240222, 4.09364511, 5.88889085, 6.23500765,\n",
       "       6.43922986, 6.32095059, 4.06874558, 2.87113224, 4.80655441,\n",
       "       3.67952203, 4.9516929 , 6.91913601, 4.5075173 , 5.84525124,\n",
       "       5.62519637, 5.135733  , 5.33351998, 4.0859046 , 2.70359406,\n",
       "       3.13800268, 3.8920764 , 5.51282808, 4.45712673, 5.41440369,\n",
       "       4.91169779, 4.82213047, 6.35809596, 6.64093082, 5.92034663,\n",
       "       5.10632044, 3.2037602 , 5.3024617 , 4.6244112 , 4.03450136,\n",
       "       4.27051827, 4.75770844, 5.72632063, 4.87590694, 4.40374892,\n",
       "       5.14772387, 5.75097596, 4.67344868, 5.25310023, 5.41636811,\n",
       "       6.03546775, 5.18334095, 5.34670574, 6.85187923, 5.40931361,\n",
       "       6.56629267, 5.63581641, 5.44363021, 7.90677255, 3.83474185,\n",
       "       4.54949094, 4.97750767, 3.00481229, 4.37917507, 5.32883127,\n",
       "       4.22675543, 6.35262491, 5.38962365, 6.26891058, 5.53914643,\n",
       "       5.62561937, 4.01177996, 4.28664787, 6.66942166, 4.35309004,\n",
       "       5.5941045 , 3.13080571, 5.44246541, 6.30391379, 6.22937028,\n",
       "       4.68773349, 4.91960806, 4.37938745, 5.55489739, 5.22439015,\n",
       "       5.98667217, 5.21608497, 4.22478433, 6.15888838, 4.36373751,\n",
       "       6.04508397, 2.79771002, 6.75061371, 3.57859879, 4.88684803,\n",
       "       5.59995622, 4.9239383 , 5.79105002, 5.26902922, 5.3009134 ,\n",
       "       5.71283731, 3.839223  , 5.84707729, 5.94624129, 4.38282465,\n",
       "       5.29536385, 4.78765566, 5.61122558, 5.3897894 , 4.32096631,\n",
       "       5.67207543, 7.24844339, 4.81875229, 6.45500327, 5.04984103,\n",
       "       6.55136635, 5.47989003, 6.64387253, 5.77146584, 5.72796248,\n",
       "       5.69306009, 6.62936956, 3.63175617, 4.74154677, 5.72134908,\n",
       "       3.88190568, 3.37593075, 6.16134353, 4.3303707 , 5.62064181,\n",
       "       4.2974322 , 5.75745075, 5.16849185, 3.39338258, 5.7043865 ,\n",
       "       6.9452231 , 5.193499  , 4.54880845, 5.90003198, 5.04413611,\n",
       "       5.62593992, 5.79877991, 6.64507023, 6.97489518, 3.96415589,\n",
       "       5.59645629, 6.4306447 , 5.46774029, 6.43837133, 4.57773516,\n",
       "       4.50280877, 3.77267006, 3.7999173 , 2.76706339, 4.62008225,\n",
       "       4.69340743, 6.11637318, 4.7837559 , 3.15778358, 6.39473224,\n",
       "       4.1037922 , 5.50744763, 5.12979374, 4.32609096, 5.41410611,\n",
       "       4.53904927, 3.58672344, 4.9763753 , 4.97407706, 5.17329261,\n",
       "       3.35080357, 5.08520038, 3.14491113, 3.73991499, 3.94281601,\n",
       "       2.94960117, 5.66926952, 5.40128422, 4.48794319, 5.09692351,\n",
       "       4.5359462 , 5.3606078 , 4.31744851, 5.2483904 , 4.13130528,\n",
       "       5.17710226, 4.4122281 , 4.44086084, 5.9338969 , 4.93167234,\n",
       "       5.30404123, 4.90267077, 4.90949896, 5.18491593, 5.66806531,\n",
       "       3.92030665, 5.16611545, 4.67575534, 4.85279776, 5.16639118,\n",
       "       6.21196501, 3.79848901, 4.64319005, 4.69032851, 5.41654467,\n",
       "       7.13686299, 4.22654232, 4.99212148, 5.86528683, 4.35021367,\n",
       "       3.80181583, 6.73729848, 5.04025492, 5.6973742 , 5.00471552,\n",
       "       4.39449311, 3.78760787, 4.60222892, 4.8625378 , 3.51117443,\n",
       "       4.93656072, 5.08260122, 4.61956966, 4.93516464, 4.38062843,\n",
       "       6.44076375, 4.71444978, 4.61226614, 7.15603437, 3.81006499,\n",
       "       4.19222728, 5.91095561, 4.66098306, 4.24180174, 4.57578841,\n",
       "       4.12262606, 4.17398455, 2.97645916, 6.561864  , 3.81267754,\n",
       "       4.68744159, 4.37011227, 4.81977724, 5.15352859, 6.00698817,\n",
       "       4.25887534, 3.4200614 , 6.49020238, 3.3202037 , 4.73109747,\n",
       "       5.27246328, 4.99801117, 6.36054954, 4.649765  , 5.24374129,\n",
       "       4.48271506, 5.09271467, 6.64909136, 4.18920306, 4.01734414,\n",
       "       5.51055407, 4.44387988, 4.0754709 , 4.40977159, 6.9325188 ,\n",
       "       5.86062765, 6.56051826, 5.14785746, 3.75798141, 6.5432635 ,\n",
       "       6.15263905, 4.23937363, 5.53937   , 6.98500703, 3.75193411,\n",
       "       4.76805834, 4.19438873, 4.0349374 , 3.84217523, 4.45683641,\n",
       "       5.12847374, 5.42345663, 5.07164741, 4.51399763, 4.97223249,\n",
       "       5.88878126, 5.15998394, 4.66397902, 4.33379135, 5.85591512,\n",
       "       5.40465697, 5.22002686, 5.20090856, 4.82066334, 5.13876032,\n",
       "       5.28444817, 5.67130936, 5.5439808 , 4.57473562, 6.09645379,\n",
       "       3.46100172, 4.71045418, 5.27348403, 6.62243586, 4.78008091,\n",
       "       4.79124366, 3.70064936, 3.50864987, 3.86914982, 5.36092126,\n",
       "       5.34667326, 4.79837724, 5.52523048, 4.74721464, 5.25867043,\n",
       "       5.0681669 , 5.30207348, 5.29484228, 5.99307073, 2.93587952,\n",
       "       4.22945937, 6.59196367, 6.67280398, 4.81477591, 4.52099721,\n",
       "       3.44848222, 4.55898979, 4.75876267, 5.01032146, 5.47652893,\n",
       "       5.0114181 , 2.71552232, 6.00492579, 3.49347132, 6.83420602,\n",
       "       6.37620994, 3.87429211, 4.80039975, 4.3018851 , 4.43636276,\n",
       "       4.96848653, 4.61762423, 5.22947725, 3.02390987, 4.1157978 ,\n",
       "       5.37776596, 6.0790021 , 4.27424917, 4.38271009, 4.65749209,\n",
       "       5.53526919, 6.27737437, 2.99716899, 5.98579369, 3.41589177,\n",
       "       4.76256081, 5.11788032, 5.5408953 , 4.28938432, 4.59868342,\n",
       "       5.36617221, 6.2310134 , 5.25285924, 7.04116928, 4.50783544,\n",
       "       5.47545571, 6.39144649, 3.64411983, 3.61977523, 5.3672517 ,\n",
       "       4.52420432, 5.35876553, 6.39092801, 4.68627899, 2.51803764,\n",
       "       4.69773926, 6.42213421, 5.44456189, 4.63327783, 4.08316262,\n",
       "       5.67602458, 4.63222421, 5.41608363, 5.27505586, 4.5331777 ,\n",
       "       7.78609575, 6.96964285, 4.96031   , 6.33789009, 3.68812598,\n",
       "       6.49473639, 5.56009502, 4.95979502, 6.32704649, 5.60744929,\n",
       "       6.74294285, 6.06058503, 3.88295289, 4.887661  , 4.76177163,\n",
       "       3.98178219, 4.09780298, 4.14332828, 5.56526813, 3.30242403,\n",
       "       5.09557162, 5.99838754, 5.16170175, 4.90225616, 3.67141244,\n",
       "       6.5109083 , 2.45595325, 5.94840595, 4.59213843, 6.98483975,\n",
       "       3.81030292, 4.60245299, 6.04362439, 5.04300907, 5.53568668,\n",
       "       5.02743149, 4.69522541, 4.47298572, 3.85859735, 4.82764084,\n",
       "       6.97074277, 3.56220302, 4.82516899, 4.50148413, 6.44511892,\n",
       "       5.34280057, 4.71192526, 6.27800745, 7.23178599, 5.14893195,\n",
       "       4.51382949, 3.79655642, 4.94424377, 4.25074081, 4.72698814,\n",
       "       5.36177801, 4.27412463, 4.55461649, 6.39184802, 3.82504017,\n",
       "       4.04085012, 3.96982719, 5.13441431, 5.01698261, 4.85674119,\n",
       "       6.06097999, 4.88823684, 7.54449819, 2.66748271, 5.0367022 ,\n",
       "       4.29378734, 7.56775069, 6.29386841, 4.97905311, 4.05741742,\n",
       "       5.7299718 , 5.62082416, 4.71352033, 3.95999192, 4.05408447,\n",
       "       5.93155601, 6.08435279, 5.08787958, 5.43360882, 6.1972872 ,\n",
       "       6.03109791, 6.58328051, 4.67414119, 4.58873405, 6.09787338,\n",
       "       6.67668964, 5.06586217, 5.10085183, 5.5215182 , 7.43026256,\n",
       "       6.2930401 , 4.50236435, 4.6544547 , 5.75197637, 4.3785618 ,\n",
       "       3.08342401, 4.4262197 , 6.40146725, 4.58115528, 3.2276368 ,\n",
       "       6.58787385, 3.64394668, 5.19213325, 5.09585203, 4.11890378,\n",
       "       5.46222619, 4.13555661, 5.46300491, 4.58010376, 4.14500899,\n",
       "       5.16729819, 3.07335581, 6.53225878, 5.51053333, 5.84562651,\n",
       "       4.3766808 , 4.73410368, 6.95403077, 4.5301563 , 5.14042521,\n",
       "       6.42278064, 5.1305094 , 4.45688906, 4.61734105, 5.20447554,\n",
       "       3.8089445 , 4.63078131, 6.09142323, 4.74577511, 5.39825764,\n",
       "       3.52654533, 4.80903707, 5.41528112, 3.93977384, 3.80734778,\n",
       "       3.5903403 , 5.58631987, 5.77942818, 5.38907054, 3.58213083,\n",
       "       4.39330621, 4.3459567 , 6.17712981, 5.99559607, 5.03906511,\n",
       "       3.78708455, 4.69080105, 5.46985537, 6.02762962, 5.25865417,\n",
       "       5.30656642, 5.07911451, 5.97448884, 6.54146362, 4.238293  ,\n",
       "       4.40887673, 5.5461961 , 5.84856948, 5.77586576, 5.94325545,\n",
       "       4.42372349, 3.69011845, 5.23273292, 5.0697856 , 6.39022963,\n",
       "       4.26099499, 5.26141182, 5.78647638, 5.29263597, 3.29530183,\n",
       "       4.82220407, 6.95241208, 6.35852653, 3.83556041, 5.36129751,\n",
       "       5.05858392, 5.12384841, 4.84122525, 6.33216375, 5.5523895 ,\n",
       "       5.15718948, 5.39564176, 4.49110388, 4.27365242, 4.78243531])"
      ]
     },
     "execution_count": 46,
     "metadata": {},
     "output_type": "execute_result"
    },
    {
     "data": {
      "image/png": "[encoded data removed]",
      "text/plain": [
       "<Figure size 432x288 with 1 Axes>"
      ]
     },
     "metadata": {},
     "output_type": "display_data"
    }
   ],
   "source": [
    "from scipy.stats import norm\n",
    "\n",
    "def normal_distribution(mean = 5):\n",
    "    mi_normal = norm(mean)\n",
    "    x = np.linspace(mi_normal.ppf(0.001), mi_normal.ppf(0.999), 100)\n",
    "    m, v = mi_normal.stats(moments='mv')\n",
    "    %matplotlib inline\n",
    "    import matplotlib.pyplot as plt\n",
    "    plt.plot(x, mi_normal.pdf(x), 'r-', lw = 3)\n",
    "    return mi_normal\n",
    "\n",
    "def random_data(distribution, size = 1000):\n",
    "    r = distribution.rvs(size)\n",
    "    plt.hist(r, normed=True, alpha=0.2, bins=\"auto\")\n",
    "    return r\n",
    "\n",
    "mi_normal = normal_distribution()\n",
    "random_data(mi_normal)"
   ]
  },
  {
   "cell_type": "markdown",
   "metadata": {},
   "source": [
    "- Representar las funciones de densidad y de probabilidad similares a las de Wikipedia."
   ]
  },
  {
   "cell_type": "code",
   "execution_count": null,
   "metadata": {},
   "outputs": [],
   "source": []
  },
  {
   "cell_type": "markdown",
   "metadata": {},
   "source": [
    "- Hallar el percentil del 80% con k=1. Razonar sobre el Principio de Pareto, se puede consultar aquí: https://en.wikipedia.org/wiki/Pareto_principle "
   ]
  },
  {
   "cell_type": "code",
   "execution_count": 48,
   "metadata": {},
   "outputs": [
    {
     "ename": "TypeError",
     "evalue": "unsupported operand type(s) for *: 'rv_frozen' and 'float'",
     "output_type": "error",
     "traceback": [
      "\u001b[0;31m---------------------------------------------------------------------------\u001b[0m",
      "\u001b[0;31mTypeError\u001b[0m                                 Traceback (most recent call last)",
      "\u001b[0;32m<ipython-input-48-a5a6da4c709c>\u001b[0m in \u001b[0;36m<module>\u001b[0;34m()\u001b[0m\n\u001b[0;32m----> 1\u001b[0;31m \u001b[0mnp\u001b[0m\u001b[0;34m.\u001b[0m\u001b[0mpercentile\u001b[0m\u001b[0;34m(\u001b[0m\u001b[0mmi_normal\u001b[0m\u001b[0;34m,\u001b[0m \u001b[0;36m0.80\u001b[0m\u001b[0;34m)\u001b[0m\u001b[0;34m\u001b[0m\u001b[0m\n\u001b[0m",
      "\u001b[0;32m~/anaconda3/lib/python3.6/site-packages/numpy/lib/function_base.py\u001b[0m in \u001b[0;36mpercentile\u001b[0;34m(a, q, axis, out, overwrite_input, interpolation, keepdims)\u001b[0m\n\u001b[1;32m   4289\u001b[0m     r, k = _ureduce(a, func=_percentile, q=q, axis=axis, out=out,\n\u001b[1;32m   4290\u001b[0m                     \u001b[0moverwrite_input\u001b[0m\u001b[0;34m=\u001b[0m\u001b[0moverwrite_input\u001b[0m\u001b[0;34m,\u001b[0m\u001b[0;34m\u001b[0m\u001b[0m\n\u001b[0;32m-> 4291\u001b[0;31m                     interpolation=interpolation)\n\u001b[0m\u001b[1;32m   4292\u001b[0m     \u001b[0;32mif\u001b[0m \u001b[0mkeepdims\u001b[0m\u001b[0;34m:\u001b[0m\u001b[0;34m\u001b[0m\u001b[0m\n\u001b[1;32m   4293\u001b[0m         \u001b[0;32mreturn\u001b[0m \u001b[0mr\u001b[0m\u001b[0;34m.\u001b[0m\u001b[0mreshape\u001b[0m\u001b[0;34m(\u001b[0m\u001b[0mq\u001b[0m\u001b[0;34m.\u001b[0m\u001b[0mshape\u001b[0m \u001b[0;34m+\u001b[0m \u001b[0mk\u001b[0m\u001b[0;34m)\u001b[0m\u001b[0;34m\u001b[0m\u001b[0m\n",
      "\u001b[0;32m~/anaconda3/lib/python3.6/site-packages/numpy/lib/function_base.py\u001b[0m in \u001b[0;36m_ureduce\u001b[0;34m(a, func, **kwargs)\u001b[0m\n\u001b[1;32m   4031\u001b[0m         \u001b[0mkeepdim\u001b[0m \u001b[0;34m=\u001b[0m \u001b[0;34m(\u001b[0m\u001b[0;36m1\u001b[0m\u001b[0;34m,\u001b[0m\u001b[0;34m)\u001b[0m \u001b[0;34m*\u001b[0m \u001b[0ma\u001b[0m\u001b[0;34m.\u001b[0m\u001b[0mndim\u001b[0m\u001b[0;34m\u001b[0m\u001b[0m\n\u001b[1;32m   4032\u001b[0m \u001b[0;34m\u001b[0m\u001b[0m\n\u001b[0;32m-> 4033\u001b[0;31m     \u001b[0mr\u001b[0m \u001b[0;34m=\u001b[0m \u001b[0mfunc\u001b[0m\u001b[0;34m(\u001b[0m\u001b[0ma\u001b[0m\u001b[0;34m,\u001b[0m \u001b[0;34m**\u001b[0m\u001b[0mkwargs\u001b[0m\u001b[0;34m)\u001b[0m\u001b[0;34m\u001b[0m\u001b[0m\n\u001b[0m\u001b[1;32m   4034\u001b[0m     \u001b[0;32mreturn\u001b[0m \u001b[0mr\u001b[0m\u001b[0;34m,\u001b[0m \u001b[0mkeepdim\u001b[0m\u001b[0;34m\u001b[0m\u001b[0m\n\u001b[1;32m   4035\u001b[0m \u001b[0;34m\u001b[0m\u001b[0m\n",
      "\u001b[0;32m~/anaconda3/lib/python3.6/site-packages/numpy/lib/function_base.py\u001b[0m in \u001b[0;36m_percentile\u001b[0;34m(a, q, axis, out, overwrite_input, interpolation, keepdims)\u001b[0m\n\u001b[1;32m   4403\u001b[0m             \u001b[0mn\u001b[0m \u001b[0;34m=\u001b[0m \u001b[0mnp\u001b[0m\u001b[0;34m.\u001b[0m\u001b[0misnan\u001b[0m\u001b[0;34m(\u001b[0m\u001b[0map\u001b[0m\u001b[0;34m[\u001b[0m\u001b[0;34m-\u001b[0m\u001b[0;36m1\u001b[0m\u001b[0;34m:\u001b[0m\u001b[0;34m,\u001b[0m \u001b[0;34m...\u001b[0m\u001b[0;34m]\u001b[0m\u001b[0;34m)\u001b[0m\u001b[0;34m\u001b[0m\u001b[0m\n\u001b[1;32m   4404\u001b[0m \u001b[0;34m\u001b[0m\u001b[0m\n\u001b[0;32m-> 4405\u001b[0;31m         \u001b[0mx1\u001b[0m \u001b[0;34m=\u001b[0m \u001b[0mtake\u001b[0m\u001b[0;34m(\u001b[0m\u001b[0map\u001b[0m\u001b[0;34m,\u001b[0m \u001b[0mindices_below\u001b[0m\u001b[0;34m,\u001b[0m \u001b[0maxis\u001b[0m\u001b[0;34m=\u001b[0m\u001b[0maxis\u001b[0m\u001b[0;34m)\u001b[0m \u001b[0;34m*\u001b[0m \u001b[0mweights_below\u001b[0m\u001b[0;34m\u001b[0m\u001b[0m\n\u001b[0m\u001b[1;32m   4406\u001b[0m         \u001b[0mx2\u001b[0m \u001b[0;34m=\u001b[0m \u001b[0mtake\u001b[0m\u001b[0;34m(\u001b[0m\u001b[0map\u001b[0m\u001b[0;34m,\u001b[0m \u001b[0mindices_above\u001b[0m\u001b[0;34m,\u001b[0m \u001b[0maxis\u001b[0m\u001b[0;34m=\u001b[0m\u001b[0maxis\u001b[0m\u001b[0;34m)\u001b[0m \u001b[0;34m*\u001b[0m \u001b[0mweights_above\u001b[0m\u001b[0;34m\u001b[0m\u001b[0m\n\u001b[1;32m   4407\u001b[0m \u001b[0;34m\u001b[0m\u001b[0m\n",
      "\u001b[0;31mTypeError\u001b[0m: unsupported operand type(s) for *: 'rv_frozen' and 'float'"
     ]
    }
   ],
   "source": [
    "np.percentile(mi_normal, 0.80)"
   ]
  },
  {
   "cell_type": "markdown",
   "metadata": {},
   "source": [
    "# Ejercicio 6\n",
    "\n",
    "Si no encontrásemos la distribución en las bibliotecas de ScyPy pero la conocemos (\"sabemos la fórmula\"), siempre podemos generar los datos aleatorios generando un array con los datos en el rango en que está definida, y después tomando aleatoriamente un número de elementos de allí (\"con\n",
    "reemplazo\").\n",
    "Vamos a pensar si tenemos esta función: f(t) definida por: \n",
    "\n",
    "\\begin{equation*}\n",
    "F(E) = \\\n",
    "{n \\choose k} p^k (1-p)^{ n-k} \n",
    "\\end{equation*}\n",
    "\n",
    "\n",
    "\n",
    "0, t < 0\n",
    "2t / (1+t2)2, t>= 0"
   ]
  },
  {
   "cell_type": "markdown",
   "metadata": {},
   "source": [
    "- Dibujar la función en el rango [0, 10]."
   ]
  },
  {
   "cell_type": "code",
   "execution_count": null,
   "metadata": {},
   "outputs": [],
   "source": []
  },
  {
   "cell_type": "markdown",
   "metadata": {},
   "source": [
    "- Generar una muestra aleatoria de la misma."
   ]
  },
  {
   "cell_type": "code",
   "execution_count": null,
   "metadata": {},
   "outputs": [],
   "source": []
  },
  {
   "cell_type": "markdown",
   "metadata": {},
   "source": [
    "- Dibujar esa muestra y su histograma."
   ]
  },
  {
   "cell_type": "code",
   "execution_count": null,
   "metadata": {},
   "outputs": [],
   "source": []
  },
  {
   "cell_type": "code",
   "execution_count": null,
   "metadata": {},
   "outputs": [],
   "source": []
  }
 ],
 "metadata": {
  "kernelspec": {
   "display_name": "Python 3",
   "language": "python",
   "name": "python3"
  },
  "language_info": {
   "codemirror_mode": {
    "name": "ipython",
    "version": 3
   },
   "file_extension": ".py",
   "mimetype": "text/x-python",
   "name": "python",
   "nbconvert_exporter": "python",
   "pygments_lexer": "ipython3",
   "version": "3.6.5"
  }
 },
 "nbformat": 4,
 "nbformat_minor": 2
}
